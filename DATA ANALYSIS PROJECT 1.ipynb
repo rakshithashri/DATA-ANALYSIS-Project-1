{
 "cells": [
  {
   "cell_type": "code",
   "execution_count": 3,
   "metadata": {},
   "outputs": [
    {
     "name": "stdout",
     "output_type": "stream",
     "text": [
      "Top Three Cuisines:\n",
      "North Indian    3960\n",
      "Chinese         2735\n",
      "Fast Food       1986\n",
      "dtype: int64\n",
      "\n",
      "Percentage of Restaurants for Each Top Cuisine:\n",
      "North Indian    41.461627\n",
      "Chinese         28.635745\n",
      "Fast Food       20.793634\n",
      "dtype: float64\n"
     ]
    }
   ],
   "source": [
    "#Top Cuisines\n",
    "import pandas as pd\n",
    "\n",
    "\n",
    "df = pd.read_csv('Dataset  (1).csv')  \n",
    "\n",
    "\n",
    "cuisine_column = 'Cuisines'\n",
    "\n",
    "\n",
    "try:\n",
    "    \n",
    "    df_cuisines = df[cuisine_column].str.split(', ', expand=True).stack()\n",
    "\n",
    "    \n",
    "    cuisine_counts = df_cuisines.value_counts()\n",
    "\n",
    "\n",
    "    top_three_cuisines = cuisine_counts.head(3)\n",
    "\n",
    "\n",
    "    total_restaurants = len(df)\n",
    "    percentage_top_cuisines = (top_three_cuisines / total_restaurants) * 100\n",
    "\n",
    "   \n",
    "    print(\"Top Three Cuisines:\")\n",
    "    print(top_three_cuisines)\n",
    "\n",
    "    print(\"\\nPercentage of Restaurants for Each Top Cuisine:\")\n",
    "    print(percentage_top_cuisines)\n",
    "\n",
    "except KeyError as e:\n",
    "    print(f\"Error: {e}. Please check if the column name '{cuisine_column}' exists in your dataset.\")\n",
    "except Exception as e:\n",
    "    print(f\"An error occurred: {e}\")\n"
   ]
  },
  {
   "cell_type": "code",
   "execution_count": 4,
   "metadata": {},
   "outputs": [
    {
     "name": "stdout",
     "output_type": "stream",
     "text": [
      "City with the highest number of restaurants: New Delhi\n",
      "\n",
      "City with the highest average rating: Inner City\n",
      "Highest average rating: 4.90\n"
     ]
    }
   ],
   "source": [
    "#City Analysis\n",
    "import pandas as pd\n",
    "\n",
    "\n",
    "df = pd.read_csv('Dataset  (1).csv')  \n",
    "\n",
    "\n",
    "city_column = 'City'\n",
    "rating_column = 'Aggregate rating'\n",
    "\n",
    "\n",
    "city_with_highest_restaurants = df[city_column].value_counts().idxmax()\n",
    "print(f\"City with the highest number of restaurants: {city_with_highest_restaurants}\")\n",
    "\n",
    "\n",
    "average_rating_by_city = df.groupby(city_column)[rating_column].mean()\n",
    "\n",
    "\n",
    "city_with_highest_average_rating = average_rating_by_city.idxmax()\n",
    "highest_average_rating = average_rating_by_city.max()\n",
    "\n",
    "print(f\"\\nCity with the highest average rating: {city_with_highest_average_rating}\")\n",
    "print(f\"Highest average rating: {highest_average_rating:.2f}\")\n"
   ]
  },
  {
   "cell_type": "code",
   "execution_count": 7,
   "metadata": {},
   "outputs": [
    {
     "data": {
      "image/png": "[encoded data removed]",
      "text/plain": [
       "<Figure size 576x432 with 1 Axes>"
      ]
     },
     "metadata": {},
     "output_type": "display_data"
    },
    {
     "name": "stdout",
     "output_type": "stream",
     "text": [
      "\n",
      "Percentage of Restaurants in Each Price Range:\n",
      "1    46.529159\n",
      "2    32.593446\n",
      "3    14.741912\n",
      "4     6.135483\n",
      "Name: Price range, dtype: float64\n"
     ]
    }
   ],
   "source": [
    "#Price Range Distribution\n",
    "import pandas as pd\n",
    "import matplotlib.pyplot as plt\n",
    "\n",
    "\n",
    "df = pd.read_csv('Dataset  (1).csv')  \n",
    "\n",
    "\n",
    "price_range_column = 'Price range'\n",
    "\n",
    "\n",
    "plt.figure(figsize=(8, 6))\n",
    "df[price_range_column].value_counts().sort_index().plot(kind='bar', color='skyblue')\n",
    "plt.title('Distribution of Price Ranges Among Restaurants')\n",
    "plt.xlabel('Price Range')\n",
    "plt.ylabel('Number of Restaurants')\n",
    "plt.show()\n",
    "\n",
    "\n",
    "price_range_percentages = df[price_range_column].value_counts(normalize=True) * 100\n",
    "print(\"\\nPercentage of Restaurants in Each Price Range:\")\n",
    "print(price_range_percentages)\n"
   ]
  },
  {
   "cell_type": "code",
   "execution_count": 8,
   "metadata": {},
   "outputs": [
    {
     "name": "stdout",
     "output_type": "stream",
     "text": [
      "Percentage of Restaurants Offering Online Delivery:\n",
      "No     74.337766\n",
      "Yes    25.662234\n",
      "Name: Has Online delivery, dtype: float64\n",
      "\n",
      "Average Rating of Restaurants with Online Delivery: 3.2488372093023306\n",
      "Average Rating of Restaurants without Online Delivery: 2.465295774647888\n"
     ]
    },
    {
     "data": {
      "image/png": "[encoded data removed]",
      "text/plain": [
       "<Figure size 576x432 with 1 Axes>"
      ]
     },
     "metadata": {},
     "output_type": "display_data"
    }
   ],
   "source": [
    "#Online Delivery\n",
    "import pandas as pd\n",
    "import matplotlib.pyplot as plt\n",
    "\n",
    "\n",
    "df = pd.read_csv('Dataset  (1).csv')  \n",
    "\n",
    "\n",
    "online_delivery_column = 'Has Online delivery'\n",
    "rating_column = 'Aggregate rating'\n",
    "\n",
    "\n",
    "online_delivery_percentage = df[online_delivery_column].value_counts(normalize=True) * 100\n",
    "print(\"Percentage of Restaurants Offering Online Delivery:\")\n",
    "print(online_delivery_percentage)\n",
    "\n",
    "\n",
    "average_rating_with_online_delivery = df[df[online_delivery_column] == 'Yes'][rating_column].mean()\n",
    "average_rating_without_online_delivery = df[df[online_delivery_column] == 'No'][rating_column].mean()\n",
    "\n",
    "print(\"\\nAverage Rating of Restaurants with Online Delivery:\", average_rating_with_online_delivery)\n",
    "print(\"Average Rating of Restaurants without Online Delivery:\", average_rating_without_online_delivery)\n",
    "\n",
    "\n",
    "average_ratings = [average_rating_with_online_delivery, average_rating_without_online_delivery]\n",
    "labels = ['With Online Delivery', 'Without Online Delivery']\n",
    "\n",
    "plt.figure(figsize=(8, 6))\n",
    "plt.bar(labels, average_ratings, color=['skyblue', 'lightcoral'])\n",
    "plt.title('Average Ratings Comparison')\n",
    "plt.xlabel('Online Delivery Availability')\n",
    "plt.ylabel('Average Rating')\n",
    "plt.show()\n"
   ]
  },
  {
   "cell_type": "code",
   "execution_count": null,
   "metadata": {},
   "outputs": [],
   "source": []
  }
 ],
 "metadata": {
  "kernelspec": {
   "display_name": "Python 3",
   "language": "python",
   "name": "python3"
  },
  "language_info": {
   "codemirror_mode": {
    "name": "ipython",
    "version": 3
   },
   "file_extension": ".py",
   "mimetype": "text/x-python",
   "name": "python",
   "nbconvert_exporter": "python",
   "pygments_lexer": "ipython3",
   "version": "3.6.5"
  }
 },
 "nbformat": 4,
 "nbformat_minor": 2
}
